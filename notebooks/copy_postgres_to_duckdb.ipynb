{
 "cells": [
  {
   "cell_type": "code",
   "id": "initial_id",
   "metadata": {
    "collapsed": true,
    "ExecuteTime": {
     "end_time": "2024-08-09T17:50:04.360044Z",
     "start_time": "2024-08-09T17:49:49.866296Z"
    }
   },
   "source": [
    "import psycopg2\n",
    "import duckdb\n",
    "import pandas as pd\n",
    "from dotenv import load_dotenv\n",
    "import os\n",
    "\n",
    "\n",
    "load_dotenv()\n",
    "\n",
    "# PostgreSQL-Verbindungsparameter\n",
    "pg_host = os.getenv('DB_HOST')\n",
    "pg_dbname = os.getenv('DB_NAME')\n",
    "pg_user = os.getenv('DB_USER')\n",
    "pg_password = os.getenv('DB_PASSWORD')\n",
    "\n",
    "# Verbindung zu PostgreSQL herstellen\n",
    "pg_conn = psycopg2.connect(\n",
    "    host=pg_host,\n",
    "    dbname=pg_dbname,\n",
    "    user=pg_user,\n",
    "    password=pg_password\n",
    ")\n",
    "\n",
    "# DuckDB-Verbindung (oder neue DuckDB-Datenbank erstellen)\n",
    "duckdb_conn = duckdb.connect('narrAItive_duckDB.duckdb')\n",
    "\n",
    "# Funktion zum Laden einer Tabelle von PostgreSQL nach DuckDB\n",
    "def load_table_to_duckdb(table_name):\n",
    "    # Daten von PostgreSQL in einen Pandas DataFrame laden\n",
    "    query = f\"SELECT * FROM {table_name};\"\n",
    "    df = pd.read_sql_query(query, pg_conn)\n",
    "    \n",
    "    # Daten in DuckDB schreiben\n",
    "    duckdb_conn.execute(f\"CREATE TABLE {table_name} AS SELECT * FROM df\")\n",
    "\n",
    "# Tabellen, die migriert werden sollen\n",
    "tables = [\"audios\", \"images\", \"story\", \"story_segments\", \"voices\"]\n",
    "\n",
    "# Tabellen nacheinander migrieren\n",
    "for table in tables:\n",
    "    load_table_to_duckdb(table)\n",
    "\n",
    "# Verbindungen schließen\n",
    "pg_conn.close()\n",
    "duckdb_conn.close()\n",
    "\n",
    "print(\"Datenbankmigration abgeschlossen!\")"
   ],
   "outputs": [
    {
     "name": "stdout",
     "output_type": "stream",
     "text": [
      "Datenbankmigration abgeschlossen!\n"
     ]
    },
    {
     "name": "stderr",
     "output_type": "stream",
     "text": [
      "/var/folders/29/9sbs0n5j2dx09wpxhjw1tgbm9575g4/T/ipykernel_21930/557359602.py:31: UserWarning: pandas only supports SQLAlchemy connectable (engine/connection) or database string URI or sqlite3 DBAPI2 connection. Other DBAPI2 objects are not tested. Please consider using SQLAlchemy.\n",
      "  df = pd.read_sql_query(query, pg_conn)\n",
      "/var/folders/29/9sbs0n5j2dx09wpxhjw1tgbm9575g4/T/ipykernel_21930/557359602.py:31: UserWarning: pandas only supports SQLAlchemy connectable (engine/connection) or database string URI or sqlite3 DBAPI2 connection. Other DBAPI2 objects are not tested. Please consider using SQLAlchemy.\n",
      "  df = pd.read_sql_query(query, pg_conn)\n",
      "/var/folders/29/9sbs0n5j2dx09wpxhjw1tgbm9575g4/T/ipykernel_21930/557359602.py:31: UserWarning: pandas only supports SQLAlchemy connectable (engine/connection) or database string URI or sqlite3 DBAPI2 connection. Other DBAPI2 objects are not tested. Please consider using SQLAlchemy.\n",
      "  df = pd.read_sql_query(query, pg_conn)\n",
      "/var/folders/29/9sbs0n5j2dx09wpxhjw1tgbm9575g4/T/ipykernel_21930/557359602.py:31: UserWarning: pandas only supports SQLAlchemy connectable (engine/connection) or database string URI or sqlite3 DBAPI2 connection. Other DBAPI2 objects are not tested. Please consider using SQLAlchemy.\n",
      "  df = pd.read_sql_query(query, pg_conn)\n",
      "/var/folders/29/9sbs0n5j2dx09wpxhjw1tgbm9575g4/T/ipykernel_21930/557359602.py:31: UserWarning: pandas only supports SQLAlchemy connectable (engine/connection) or database string URI or sqlite3 DBAPI2 connection. Other DBAPI2 objects are not tested. Please consider using SQLAlchemy.\n",
      "  df = pd.read_sql_query(query, pg_conn)\n"
     ]
    }
   ],
   "execution_count": 1
  },
  {
   "metadata": {
    "ExecuteTime": {
     "end_time": "2024-08-09T17:50:40.384302Z",
     "start_time": "2024-08-09T17:50:40.365652Z"
    }
   },
   "cell_type": "code",
   "source": [
    "# get tables from duckdb\n",
    "conn = duckdb.connect('narrAItive_duckDB.duckdb')\n",
    "cursor = conn.cursor()\n",
    "cursor.execute(\"SHOW TABLES;\")\n",
    "print(cursor.fetchall())"
   ],
   "id": "97096a7b49cf64b1",
   "outputs": [
    {
     "name": "stdout",
     "output_type": "stream",
     "text": [
      "[('audios',), ('images',), ('story',), ('story_segments',), ('voices',)]\n"
     ]
    }
   ],
   "execution_count": 2
  },
  {
   "metadata": {
    "ExecuteTime": {
     "end_time": "2024-08-09T17:50:58.230467Z",
     "start_time": "2024-08-09T17:50:58.226773Z"
    }
   },
   "cell_type": "code",
   "source": [
    "# get data from duckdb\n",
    "cursor.execute(\"SELECT * FROM story;\")\n",
    "print(cursor.fetchall())"
   ],
   "id": "3e62b05551665f70",
   "outputs": [
    {
     "name": "stdout",
     "output_type": "stream",
     "text": [
      "[('61888c17-0d9a-4f7d-8c0d-76c03e4df02b', 10, 'Die kleine blonde Mädchen und der grüne Drache', '3-5', 'gpt-3.5-turbo-16k', datetime.datetime(2023, 11, 9, 9, 51, 21, 347722)), ('5d3f8f1f-ffba-49ce-8e11-c3b7baac55e6', 10, 'Die Ninja Turtles entdecken den Planeten Mars', '3-5', 'gpt-3.5-turbo-16k', datetime.datetime(2023, 11, 9, 9, 59, 47, 775695)), ('fe18f6a8-04e7-4cba-bb5e-939a2ac1f67d', 10, 'Die Feuerwehrhelden', '3-5', 'gpt-3.5-turbo-16k', datetime.datetime(2023, 11, 9, 11, 32, 13, 850684)), ('1ab9babc-3374-474b-8f0d-27aa1cf7967c', 10, 'Spongebob und Dagobert Duck treffen sich in der Kneipe', '6-8', 'gpt-3.5-turbo-16k', datetime.datetime(2023, 11, 9, 16, 15, 37, 128807)), ('afee59ee-45f8-4bd5-9340-63fb8cf0cfaf', 10, 'Ein Bär im Dschungel', '1-2', 'gpt-3.5-turbo-16k', datetime.datetime(2023, 11, 10, 15, 48, 37, 982716)), ('37f83491-9108-4271-9d38-f60c3d545bb6', 10, 'Peppa Wutz und Dinosaurier spielen Verstecken auf einer Party und essen Brötchen', '3-5', 'gpt-3.5-turbo-16k', datetime.datetime(2023, 11, 11, 8, 37, 49, 490212)), ('801b9204-8cb8-4dc1-84fc-f80dd56ff8fe', 10, 'Walt Disneys Pluto spielt Tennis', '3-5', 'gpt-3.5-turbo-16k', datetime.datetime(2023, 11, 12, 17, 6, 12, 114111)), ('36a7edca-a616-4fec-b0bb-006eddbb5f5c', 10, \"Thorin's Adventure to Mars\", '3-5', 'gpt-3.5-turbo-16k', datetime.datetime(2023, 11, 13, 11, 17, 35, 428330)), ('bb3f806a-b6f9-4ef1-8318-4aa9338c258c', 10, 'Thorin und der Geburtstagsfußball', '3-5', 'gpt-3.5-turbo-16k', datetime.datetime(2023, 11, 13, 13, 22, 41, 679802)), ('809561c9-a8fc-48c7-8289-62cc59b8e5ae', 10, 'Thorin geht einkaufen', '3-5', 'gpt-3.5-turbo-16k', datetime.datetime(2023, 11, 13, 13, 34, 59, 114884)), ('6c8c3f50-752a-4eac-95ba-b2e8f7bd34ed', 10, 'Thorin geht mit seinem Papa angeln', '1-2', 'gpt-3.5-turbo-16k', datetime.datetime(2023, 11, 13, 15, 51, 54, 791852)), ('1f4d2f9f-3fab-4e63-a875-9349daf20b9d', 10, 'Emilia lädt die Paw Patrol zu einer Party ein', '1-2', 'gpt-3.5-turbo-16k', datetime.datetime(2023, 11, 15, 7, 41, 35, 129508)), ('5bb3e673-14d0-4827-a042-563ef7984c3e', 10, 'Thorin bereist und erkundet Amerika', '6-8', 'gpt-3.5-turbo-16k', datetime.datetime(2023, 11, 15, 11, 7, 30, 736257)), ('2882f6b9-1ecc-46a8-829c-b829c8f131d2', 10, 'Der kleine Junge Thorin bereist und erkundet Amerika', '6-8', 'gpt-3.5-turbo-16k', datetime.datetime(2023, 11, 15, 11, 29, 19, 265425)), ('240547cd-4735-47ba-8ed0-4b2581d1a546', 10, 'Emilia bereist und erkundet Asien', '6-8', 'gpt-3.5-turbo-16k', datetime.datetime(2023, 11, 15, 20, 46, 42, 513892)), ('dfc459f1-9632-4097-bbf4-a38ccec2ce18', 10, 'Emilia und Thorin entdecken Amerika', '3-5', 'gpt-3.5-turbo-16k', datetime.datetime(2023, 11, 15, 22, 12, 7, 810069)), ('05b321f2-634b-4139-ab3e-e31bc57313ad', 10, 'Thorin entdeckt Afrika', '3-5', 'gpt-3.5-turbo-16k', datetime.datetime(2023, 11, 16, 20, 27, 15, 820669)), ('aaa6709a-9914-49cc-b03f-6e3443beac7a', 10, 'Thorin entdeckt Australien', '6-8', 'gpt-3.5-turbo-16k', datetime.datetime(2023, 11, 16, 21, 9, 31, 31433)), ('6efabe63-9ace-4164-99b5-36212d92c544', 10, 'Spongebob und Pluto auf Mallorca', '9-11', 'gpt-3.5-turbo-16k', datetime.datetime(2023, 11, 16, 21, 27, 7, 734051)), ('80e74d09-3d9b-401d-aba5-bc62337cb93c', 10, 'Thorin und Emilia gehen ins Schwimmbad und rutschen', '3-5', 'gpt-3.5-turbo-16k', datetime.datetime(2023, 11, 17, 8, 32, 36, 650236)), ('3cb80170-fbfb-4fbc-af2d-788be288513e', 10, 'Der kleine Junge Michel im Aquarium', '6-8', 'gpt-3.5-turbo-16k', datetime.datetime(2023, 11, 20, 9, 35, 39, 952178)), ('851cb4dc-259b-4358-8a8a-78bc5e034aae', 10, 'Der kleine Junge Thorin reist ins Weltall', '9-11', 'gpt-3.5-turbo-16k', datetime.datetime(2023, 11, 23, 12, 57, 39, 466190)), ('b3f03de3-a6e0-4ac8-8560-5e52505a3e9a', 10, 'Emilia segelt um die Welt und erkundet die Kontinente', '6-8', 'gpt-3.5-turbo-16k', datetime.datetime(2023, 11, 24, 8, 39, 25, 865503)), ('1d1d6866-8ad0-440c-87ec-c22b87577bf1', 10, 'Thorin-Joris macht eine Reise durch Ägypten', '1-2', 'gpt-3.5-turbo-16k', datetime.datetime(2023, 11, 28, 19, 42, 28, 186247)), ('4cbeb0ec-15c9-4b7c-89b9-6b207db5f84f', 10, 'Thorin-Joris macht eine Reise nach Skandinavien', '3-5', 'gpt-3.5-turbo-16k', datetime.datetime(2023, 11, 28, 23, 33, 33, 342510)), ('ace14805-9c31-44b1-ab40-f74fca67fdd6', 10, 'Thorin-Joris macht Urlaub in Norwegen', '9-11', 'gpt-3.5-turbo-16k', datetime.datetime(2023, 11, 28, 23, 55, 31, 227103)), ('d27b82b2-21d0-4282-9b30-c34d3530c6de', 10, 'Emilia und die Dinosaurier im Schwimmbad', '6-8', 'gpt-3.5-turbo-16k', datetime.datetime(2023, 12, 1, 12, 36, 50, 635656)), ('f6f0d801-5601-4486-b54f-1cce28125fe2', 10, 'Emilia-Fee und Thorin-Joris gehen Schlitten fahren im Schnee', '3-5', 'gpt-3.5-turbo-16k', datetime.datetime(2023, 12, 1, 12, 47, 51, 753076)), ('a65b149d-9855-40b4-afae-648c787faaf4', 10, 'Emilia-Fee und Thorin-Joris im Schwimmbad', '9-11', 'gpt-3.5-turbo-16k', datetime.datetime(2023, 12, 6, 18, 5, 38, 556)), ('242f8c8c-cb47-47cf-9c91-90b0c96a1318', 10, 'Thorin-Joris auf dem Schrotthandel', '9-11', 'gpt-3.5-turbo-16k', datetime.datetime(2023, 12, 25, 10, 42, 59, 215306)), ('355d1606-5dab-4c1f-9550-cf1bbc34b4e3', 10, 'Emilia-Fee macht eine Hubschrauber-Rundreise', '6-8', 'gpt-3.5-turbo-16k', datetime.datetime(2023, 12, 29, 14, 22, 19, 454631))]\n"
     ]
    }
   ],
   "execution_count": 3
  },
  {
   "metadata": {
    "ExecuteTime": {
     "end_time": "2024-08-12T12:56:56.656088Z",
     "start_time": "2024-08-12T12:56:56.639740Z"
    }
   },
   "cell_type": "code",
   "source": [
    "# create dataframe from table stories\n",
    "df = conn.table(\"images\").to_df()\n",
    "df"
   ],
   "id": "14e1241f3b5f7b98",
   "outputs": [
    {
     "data": {
      "text/plain": [
       "                                 image_id  \\\n",
       "0    4b029826-d229-4cfb-9437-930dcc0c5d2c   \n",
       "1    2c2cbfe7-635e-4d5e-a376-80b26b5f357c   \n",
       "2    86f936e0-7bbe-4ae7-8e3c-115d0c41b2e7   \n",
       "3    ad6186d9-7097-46a3-98d1-fa5a700198e8   \n",
       "4    f920a4a2-4e92-4a0b-accf-78e348fd04d8   \n",
       "..                                    ...   \n",
       "305  72e73eb0-1093-4370-b214-faec4477451b   \n",
       "306  216af273-a9da-4bcc-b6b1-e2b9de3c7a23   \n",
       "307  2448ce23-184f-4af1-87e2-5ffb08b0a937   \n",
       "308  311b63a2-e058-4c47-8852-60757845b749   \n",
       "309  6459d935-d536-4d68-9ad9-d9a3fb28153b   \n",
       "\n",
       "                               segment_id  \\\n",
       "0    10657725-fe7e-4eeb-9de6-3f2b608ec4e0   \n",
       "1    03114ad9-94f6-4d88-8050-e6d550548140   \n",
       "2    c66ec0fd-706a-4382-9242-ac5a704a27f3   \n",
       "3    dca8a314-a347-4f21-bd92-4741c90bb215   \n",
       "4    c4d5e6b1-0ac4-469d-8e1e-355b9787938c   \n",
       "..                                    ...   \n",
       "305  b1a09529-8c3f-49c1-98da-3efe30f3e4b9   \n",
       "306  8dcae62e-f98f-4093-a161-c7e1fc912cbb   \n",
       "307  ea239b80-f5c6-414e-bbcc-cbbe8c0606f9   \n",
       "308  2632ff66-c6b6-4edf-bcab-7a2c17826183   \n",
       "309  b2424075-f463-4b5c-9298-2cb3eb9a9c3c   \n",
       "\n",
       "                                                   url  \\\n",
       "0    https://narraitive.s3.amazonaws.com/61888c17-0...   \n",
       "1    https://narraitive.s3.amazonaws.com/61888c17-0...   \n",
       "2    https://narraitive.s3.amazonaws.com/61888c17-0...   \n",
       "3    https://narraitive.s3.amazonaws.com/61888c17-0...   \n",
       "4    https://narraitive.s3.amazonaws.com/61888c17-0...   \n",
       "..                                                 ...   \n",
       "305  https://narraitive.s3.amazonaws.com/a65b149d-9...   \n",
       "306  https://narraitive.s3.amazonaws.com/a65b149d-9...   \n",
       "307  https://narraitive.s3.amazonaws.com/a65b149d-9...   \n",
       "308  https://narraitive.s3.amazonaws.com/a65b149d-9...   \n",
       "309  https://narraitive.s3.amazonaws.com/242f8c8c-c...   \n",
       "\n",
       "            creation_timestamp creation_model resolution  \n",
       "0   2023-11-09 09:51:42.207358   dall_e_3_gpt  1024x1024  \n",
       "1   2023-11-09 09:52:05.647147   dall_e_3_gpt  1024x1024  \n",
       "2   2023-11-09 09:52:32.325643   dall_e_3_gpt  1024x1024  \n",
       "3   2023-11-09 09:52:54.002847   dall_e_3_gpt  1024x1024  \n",
       "4   2023-11-09 09:53:16.192214   dall_e_3_gpt  1024x1024  \n",
       "..                         ...            ...        ...  \n",
       "305 2023-12-06 18:10:12.831909   dall_e_3_gpt  1024x1024  \n",
       "306 2023-12-06 18:10:51.103463   dall_e_3_gpt  1024x1024  \n",
       "307 2023-12-06 18:11:28.642090   dall_e_3_gpt  1024x1024  \n",
       "308 2023-12-06 18:11:58.158703   dall_e_3_gpt  1024x1024  \n",
       "309 2023-12-28 15:15:29.107615   dall_e_3_gpt  1024x1024  \n",
       "\n",
       "[310 rows x 6 columns]"
      ],
      "text/html": [
       "<div>\n",
       "<style scoped>\n",
       "    .dataframe tbody tr th:only-of-type {\n",
       "        vertical-align: middle;\n",
       "    }\n",
       "\n",
       "    .dataframe tbody tr th {\n",
       "        vertical-align: top;\n",
       "    }\n",
       "\n",
       "    .dataframe thead th {\n",
       "        text-align: right;\n",
       "    }\n",
       "</style>\n",
       "<table border=\"1\" class=\"dataframe\">\n",
       "  <thead>\n",
       "    <tr style=\"text-align: right;\">\n",
       "      <th></th>\n",
       "      <th>image_id</th>\n",
       "      <th>segment_id</th>\n",
       "      <th>url</th>\n",
       "      <th>creation_timestamp</th>\n",
       "      <th>creation_model</th>\n",
       "      <th>resolution</th>\n",
       "    </tr>\n",
       "  </thead>\n",
       "  <tbody>\n",
       "    <tr>\n",
       "      <th>0</th>\n",
       "      <td>4b029826-d229-4cfb-9437-930dcc0c5d2c</td>\n",
       "      <td>10657725-fe7e-4eeb-9de6-3f2b608ec4e0</td>\n",
       "      <td>https://narraitive.s3.amazonaws.com/61888c17-0...</td>\n",
       "      <td>2023-11-09 09:51:42.207358</td>\n",
       "      <td>dall_e_3_gpt</td>\n",
       "      <td>1024x1024</td>\n",
       "    </tr>\n",
       "    <tr>\n",
       "      <th>1</th>\n",
       "      <td>2c2cbfe7-635e-4d5e-a376-80b26b5f357c</td>\n",
       "      <td>03114ad9-94f6-4d88-8050-e6d550548140</td>\n",
       "      <td>https://narraitive.s3.amazonaws.com/61888c17-0...</td>\n",
       "      <td>2023-11-09 09:52:05.647147</td>\n",
       "      <td>dall_e_3_gpt</td>\n",
       "      <td>1024x1024</td>\n",
       "    </tr>\n",
       "    <tr>\n",
       "      <th>2</th>\n",
       "      <td>86f936e0-7bbe-4ae7-8e3c-115d0c41b2e7</td>\n",
       "      <td>c66ec0fd-706a-4382-9242-ac5a704a27f3</td>\n",
       "      <td>https://narraitive.s3.amazonaws.com/61888c17-0...</td>\n",
       "      <td>2023-11-09 09:52:32.325643</td>\n",
       "      <td>dall_e_3_gpt</td>\n",
       "      <td>1024x1024</td>\n",
       "    </tr>\n",
       "    <tr>\n",
       "      <th>3</th>\n",
       "      <td>ad6186d9-7097-46a3-98d1-fa5a700198e8</td>\n",
       "      <td>dca8a314-a347-4f21-bd92-4741c90bb215</td>\n",
       "      <td>https://narraitive.s3.amazonaws.com/61888c17-0...</td>\n",
       "      <td>2023-11-09 09:52:54.002847</td>\n",
       "      <td>dall_e_3_gpt</td>\n",
       "      <td>1024x1024</td>\n",
       "    </tr>\n",
       "    <tr>\n",
       "      <th>4</th>\n",
       "      <td>f920a4a2-4e92-4a0b-accf-78e348fd04d8</td>\n",
       "      <td>c4d5e6b1-0ac4-469d-8e1e-355b9787938c</td>\n",
       "      <td>https://narraitive.s3.amazonaws.com/61888c17-0...</td>\n",
       "      <td>2023-11-09 09:53:16.192214</td>\n",
       "      <td>dall_e_3_gpt</td>\n",
       "      <td>1024x1024</td>\n",
       "    </tr>\n",
       "    <tr>\n",
       "      <th>...</th>\n",
       "      <td>...</td>\n",
       "      <td>...</td>\n",
       "      <td>...</td>\n",
       "      <td>...</td>\n",
       "      <td>...</td>\n",
       "      <td>...</td>\n",
       "    </tr>\n",
       "    <tr>\n",
       "      <th>305</th>\n",
       "      <td>72e73eb0-1093-4370-b214-faec4477451b</td>\n",
       "      <td>b1a09529-8c3f-49c1-98da-3efe30f3e4b9</td>\n",
       "      <td>https://narraitive.s3.amazonaws.com/a65b149d-9...</td>\n",
       "      <td>2023-12-06 18:10:12.831909</td>\n",
       "      <td>dall_e_3_gpt</td>\n",
       "      <td>1024x1024</td>\n",
       "    </tr>\n",
       "    <tr>\n",
       "      <th>306</th>\n",
       "      <td>216af273-a9da-4bcc-b6b1-e2b9de3c7a23</td>\n",
       "      <td>8dcae62e-f98f-4093-a161-c7e1fc912cbb</td>\n",
       "      <td>https://narraitive.s3.amazonaws.com/a65b149d-9...</td>\n",
       "      <td>2023-12-06 18:10:51.103463</td>\n",
       "      <td>dall_e_3_gpt</td>\n",
       "      <td>1024x1024</td>\n",
       "    </tr>\n",
       "    <tr>\n",
       "      <th>307</th>\n",
       "      <td>2448ce23-184f-4af1-87e2-5ffb08b0a937</td>\n",
       "      <td>ea239b80-f5c6-414e-bbcc-cbbe8c0606f9</td>\n",
       "      <td>https://narraitive.s3.amazonaws.com/a65b149d-9...</td>\n",
       "      <td>2023-12-06 18:11:28.642090</td>\n",
       "      <td>dall_e_3_gpt</td>\n",
       "      <td>1024x1024</td>\n",
       "    </tr>\n",
       "    <tr>\n",
       "      <th>308</th>\n",
       "      <td>311b63a2-e058-4c47-8852-60757845b749</td>\n",
       "      <td>2632ff66-c6b6-4edf-bcab-7a2c17826183</td>\n",
       "      <td>https://narraitive.s3.amazonaws.com/a65b149d-9...</td>\n",
       "      <td>2023-12-06 18:11:58.158703</td>\n",
       "      <td>dall_e_3_gpt</td>\n",
       "      <td>1024x1024</td>\n",
       "    </tr>\n",
       "    <tr>\n",
       "      <th>309</th>\n",
       "      <td>6459d935-d536-4d68-9ad9-d9a3fb28153b</td>\n",
       "      <td>b2424075-f463-4b5c-9298-2cb3eb9a9c3c</td>\n",
       "      <td>https://narraitive.s3.amazonaws.com/242f8c8c-c...</td>\n",
       "      <td>2023-12-28 15:15:29.107615</td>\n",
       "      <td>dall_e_3_gpt</td>\n",
       "      <td>1024x1024</td>\n",
       "    </tr>\n",
       "  </tbody>\n",
       "</table>\n",
       "<p>310 rows × 6 columns</p>\n",
       "</div>"
      ]
     },
     "execution_count": 7,
     "metadata": {},
     "output_type": "execute_result"
    }
   ],
   "execution_count": 7
  },
  {
   "metadata": {},
   "cell_type": "code",
   "outputs": [],
   "execution_count": null,
   "source": "",
   "id": "d9797142a6386492"
  }
 ],
 "metadata": {
  "kernelspec": {
   "display_name": "Python 3",
   "language": "python",
   "name": "python3"
  },
  "language_info": {
   "codemirror_mode": {
    "name": "ipython",
    "version": 2
   },
   "file_extension": ".py",
   "mimetype": "text/x-python",
   "name": "python",
   "nbconvert_exporter": "python",
   "pygments_lexer": "ipython2",
   "version": "2.7.6"
  }
 },
 "nbformat": 4,
 "nbformat_minor": 5
}
