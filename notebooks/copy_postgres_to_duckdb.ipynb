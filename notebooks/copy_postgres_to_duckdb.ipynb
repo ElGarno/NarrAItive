{
 "cells": [
  {
   "cell_type": "code",
   "id": "initial_id",
   "metadata": {
    "collapsed": true,
    "ExecuteTime": {
     "end_time": "2024-08-09T17:50:04.360044Z",
     "start_time": "2024-08-09T17:49:49.866296Z"
    }
   },
   "source": [
    "import psycopg2\n",
    "import duckdb\n",
    "import pandas as pd\n",
    "from dotenv import load_dotenv\n",
    "import os\n",
    "\n",
    "\n",
    "load_dotenv()\n",
    "\n",
    "# PostgreSQL-Verbindungsparameter\n",
    "pg_host = os.getenv('DB_HOST')\n",
    "pg_dbname = os.getenv('DB_NAME')\n",
    "pg_user = os.getenv('DB_USER')\n",
    "pg_password = os.getenv('DB_PASSWORD')\n",
    "\n",
    "# Verbindung zu PostgreSQL herstellen\n",
    "pg_conn = psycopg2.connect(\n",
    "    host=pg_host,\n",
    "    dbname=pg_dbname,\n",
    "    user=pg_user,\n",
    "    password=pg_password\n",
    ")\n",
    "\n",
    "# DuckDB-Verbindung (oder neue DuckDB-Datenbank erstellen)\n",
    "duckdb_conn = duckdb.connect('narrAItive_duckDB.duckdb')\n",
    "\n",
    "# Funktion zum Laden einer Tabelle von PostgreSQL nach DuckDB\n",
    "def load_table_to_duckdb(table_name):\n",
    "    # Daten von PostgreSQL in einen Pandas DataFrame laden\n",
    "    query = f\"SELECT * FROM {table_name};\"\n",
    "    df = pd.read_sql_query(query, pg_conn)\n",
    "    \n",
    "    # Daten in DuckDB schreiben\n",
    "    duckdb_conn.execute(f\"CREATE TABLE {table_name} AS SELECT * FROM df\")\n",
    "\n",
    "# Tabellen, die migriert werden sollen\n",
    "tables = [\"audios\", \"images\", \"story\", \"story_segments\", \"voices\"]\n",
    "\n",
    "# Tabellen nacheinander migrieren\n",
    "for table in tables:\n",
    "    load_table_to_duckdb(table)\n",
    "\n",
    "# Verbindungen schließen\n",
    "pg_conn.close()\n",
    "duckdb_conn.close()\n",
    "\n",
    "print(\"Datenbankmigration abgeschlossen!\")"
   ],
   "outputs": [
    {
     "name": "stdout",
     "output_type": "stream",
     "text": [
      "Datenbankmigration abgeschlossen!\n"
     ]
    },
    {
     "name": "stderr",
     "output_type": "stream",
     "text": [
      "/var/folders/29/9sbs0n5j2dx09wpxhjw1tgbm9575g4/T/ipykernel_21930/557359602.py:31: UserWarning: pandas only supports SQLAlchemy connectable (engine/connection) or database string URI or sqlite3 DBAPI2 connection. Other DBAPI2 objects are not tested. Please consider using SQLAlchemy.\n",
      "  df = pd.read_sql_query(query, pg_conn)\n",
      "/var/folders/29/9sbs0n5j2dx09wpxhjw1tgbm9575g4/T/ipykernel_21930/557359602.py:31: UserWarning: pandas only supports SQLAlchemy connectable (engine/connection) or database string URI or sqlite3 DBAPI2 connection. Other DBAPI2 objects are not tested. Please consider using SQLAlchemy.\n",
      "  df = pd.read_sql_query(query, pg_conn)\n",
      "/var/folders/29/9sbs0n5j2dx09wpxhjw1tgbm9575g4/T/ipykernel_21930/557359602.py:31: UserWarning: pandas only supports SQLAlchemy connectable (engine/connection) or database string URI or sqlite3 DBAPI2 connection. Other DBAPI2 objects are not tested. Please consider using SQLAlchemy.\n",
      "  df = pd.read_sql_query(query, pg_conn)\n",
      "/var/folders/29/9sbs0n5j2dx09wpxhjw1tgbm9575g4/T/ipykernel_21930/557359602.py:31: UserWarning: pandas only supports SQLAlchemy connectable (engine/connection) or database string URI or sqlite3 DBAPI2 connection. Other DBAPI2 objects are not tested. Please consider using SQLAlchemy.\n",
      "  df = pd.read_sql_query(query, pg_conn)\n",
      "/var/folders/29/9sbs0n5j2dx09wpxhjw1tgbm9575g4/T/ipykernel_21930/557359602.py:31: UserWarning: pandas only supports SQLAlchemy connectable (engine/connection) or database string URI or sqlite3 DBAPI2 connection. Other DBAPI2 objects are not tested. Please consider using SQLAlchemy.\n",
      "  df = pd.read_sql_query(query, pg_conn)\n"
     ]
    }
   ],
   "execution_count": 1
  },
  {
   "metadata": {
    "ExecuteTime": {
     "end_time": "2024-08-09T17:50:40.384302Z",
     "start_time": "2024-08-09T17:50:40.365652Z"
    }
   },
   "cell_type": "code",
   "source": [
    "# get tables from duckdb\n",
    "conn = duckdb.connect('narrAItive_duckDB.duckdb')\n",
    "cursor = conn.cursor()\n",
    "cursor.execute(\"SHOW TABLES;\")\n",
    "print(cursor.fetchall())"
   ],
   "id": "97096a7b49cf64b1",
   "outputs": [
    {
     "name": "stdout",
     "output_type": "stream",
     "text": [
      "[('audios',), ('images',), ('story',), ('story_segments',), ('voices',)]\n"
     ]
    }
   ],
   "execution_count": 2
  },
  {
   "metadata": {
    "ExecuteTime": {
     "end_time": "2024-08-09T17:50:58.230467Z",
     "start_time": "2024-08-09T17:50:58.226773Z"
    }
   },
   "cell_type": "code",
   "source": [
    "# get data from duckdb\n",
    "cursor.execute(\"SELECT * FROM story;\")\n",
    "print(cursor.fetchall())"
   ],
   "id": "3e62b05551665f70",
   "outputs": [
    {
     "name": "stdout",
     "output_type": "stream",
     "text": [
      "[('61888c17-0d9a-4f7d-8c0d-76c03e4df02b', 10, 'Die kleine blonde Mädchen und der grüne Drache', '3-5', 'gpt-3.5-turbo-16k', datetime.datetime(2023, 11, 9, 9, 51, 21, 347722)), ('5d3f8f1f-ffba-49ce-8e11-c3b7baac55e6', 10, 'Die Ninja Turtles entdecken den Planeten Mars', '3-5', 'gpt-3.5-turbo-16k', datetime.datetime(2023, 11, 9, 9, 59, 47, 775695)), ('fe18f6a8-04e7-4cba-bb5e-939a2ac1f67d', 10, 'Die Feuerwehrhelden', '3-5', 'gpt-3.5-turbo-16k', datetime.datetime(2023, 11, 9, 11, 32, 13, 850684)), ('1ab9babc-3374-474b-8f0d-27aa1cf7967c', 10, 'Spongebob und Dagobert Duck treffen sich in der Kneipe', '6-8', 'gpt-3.5-turbo-16k', datetime.datetime(2023, 11, 9, 16, 15, 37, 128807)), ('afee59ee-45f8-4bd5-9340-63fb8cf0cfaf', 10, 'Ein Bär im Dschungel', '1-2', 'gpt-3.5-turbo-16k', datetime.datetime(2023, 11, 10, 15, 48, 37, 982716)), ('37f83491-9108-4271-9d38-f60c3d545bb6', 10, 'Peppa Wutz und Dinosaurier spielen Verstecken auf einer Party und essen Brötchen', '3-5', 'gpt-3.5-turbo-16k', datetime.datetime(2023, 11, 11, 8, 37, 49, 490212)), ('801b9204-8cb8-4dc1-84fc-f80dd56ff8fe', 10, 'Walt Disneys Pluto spielt Tennis', '3-5', 'gpt-3.5-turbo-16k', datetime.datetime(2023, 11, 12, 17, 6, 12, 114111)), ('36a7edca-a616-4fec-b0bb-006eddbb5f5c', 10, \"Thorin's Adventure to Mars\", '3-5', 'gpt-3.5-turbo-16k', datetime.datetime(2023, 11, 13, 11, 17, 35, 428330)), ('bb3f806a-b6f9-4ef1-8318-4aa9338c258c', 10, 'Thorin und der Geburtstagsfußball', '3-5', 'gpt-3.5-turbo-16k', datetime.datetime(2023, 11, 13, 13, 22, 41, 679802)), ('809561c9-a8fc-48c7-8289-62cc59b8e5ae', 10, 'Thorin geht einkaufen', '3-5', 'gpt-3.5-turbo-16k', datetime.datetime(2023, 11, 13, 13, 34, 59, 114884)), ('6c8c3f50-752a-4eac-95ba-b2e8f7bd34ed', 10, 'Thorin geht mit seinem Papa angeln', '1-2', 'gpt-3.5-turbo-16k', datetime.datetime(2023, 11, 13, 15, 51, 54, 791852)), ('1f4d2f9f-3fab-4e63-a875-9349daf20b9d', 10, 'Emilia lädt die Paw Patrol zu einer Party ein', '1-2', 'gpt-3.5-turbo-16k', datetime.datetime(2023, 11, 15, 7, 41, 35, 129508)), ('5bb3e673-14d0-4827-a042-563ef7984c3e', 10, 'Thorin bereist und erkundet Amerika', '6-8', 'gpt-3.5-turbo-16k', datetime.datetime(2023, 11, 15, 11, 7, 30, 736257)), ('2882f6b9-1ecc-46a8-829c-b829c8f131d2', 10, 'Der kleine Junge Thorin bereist und erkundet Amerika', '6-8', 'gpt-3.5-turbo-16k', datetime.datetime(2023, 11, 15, 11, 29, 19, 265425)), ('240547cd-4735-47ba-8ed0-4b2581d1a546', 10, 'Emilia bereist und erkundet Asien', '6-8', 'gpt-3.5-turbo-16k', datetime.datetime(2023, 11, 15, 20, 46, 42, 513892)), ('dfc459f1-9632-4097-bbf4-a38ccec2ce18', 10, 'Emilia und Thorin entdecken Amerika', '3-5', 'gpt-3.5-turbo-16k', datetime.datetime(2023, 11, 15, 22, 12, 7, 810069)), ('05b321f2-634b-4139-ab3e-e31bc57313ad', 10, 'Thorin entdeckt Afrika', '3-5', 'gpt-3.5-turbo-16k', datetime.datetime(2023, 11, 16, 20, 27, 15, 820669)), ('aaa6709a-9914-49cc-b03f-6e3443beac7a', 10, 'Thorin entdeckt Australien', '6-8', 'gpt-3.5-turbo-16k', datetime.datetime(2023, 11, 16, 21, 9, 31, 31433)), ('6efabe63-9ace-4164-99b5-36212d92c544', 10, 'Spongebob und Pluto auf Mallorca', '9-11', 'gpt-3.5-turbo-16k', datetime.datetime(2023, 11, 16, 21, 27, 7, 734051)), ('80e74d09-3d9b-401d-aba5-bc62337cb93c', 10, 'Thorin und Emilia gehen ins Schwimmbad und rutschen', '3-5', 'gpt-3.5-turbo-16k', datetime.datetime(2023, 11, 17, 8, 32, 36, 650236)), ('3cb80170-fbfb-4fbc-af2d-788be288513e', 10, 'Der kleine Junge Michel im Aquarium', '6-8', 'gpt-3.5-turbo-16k', datetime.datetime(2023, 11, 20, 9, 35, 39, 952178)), ('851cb4dc-259b-4358-8a8a-78bc5e034aae', 10, 'Der kleine Junge Thorin reist ins Weltall', '9-11', 'gpt-3.5-turbo-16k', datetime.datetime(2023, 11, 23, 12, 57, 39, 466190)), ('b3f03de3-a6e0-4ac8-8560-5e52505a3e9a', 10, 'Emilia segelt um die Welt und erkundet die Kontinente', '6-8', 'gpt-3.5-turbo-16k', datetime.datetime(2023, 11, 24, 8, 39, 25, 865503)), ('1d1d6866-8ad0-440c-87ec-c22b87577bf1', 10, 'Thorin-Joris macht eine Reise durch Ägypten', '1-2', 'gpt-3.5-turbo-16k', datetime.datetime(2023, 11, 28, 19, 42, 28, 186247)), ('4cbeb0ec-15c9-4b7c-89b9-6b207db5f84f', 10, 'Thorin-Joris macht eine Reise nach Skandinavien', '3-5', 'gpt-3.5-turbo-16k', datetime.datetime(2023, 11, 28, 23, 33, 33, 342510)), ('ace14805-9c31-44b1-ab40-f74fca67fdd6', 10, 'Thorin-Joris macht Urlaub in Norwegen', '9-11', 'gpt-3.5-turbo-16k', datetime.datetime(2023, 11, 28, 23, 55, 31, 227103)), ('d27b82b2-21d0-4282-9b30-c34d3530c6de', 10, 'Emilia und die Dinosaurier im Schwimmbad', '6-8', 'gpt-3.5-turbo-16k', datetime.datetime(2023, 12, 1, 12, 36, 50, 635656)), ('f6f0d801-5601-4486-b54f-1cce28125fe2', 10, 'Emilia-Fee und Thorin-Joris gehen Schlitten fahren im Schnee', '3-5', 'gpt-3.5-turbo-16k', datetime.datetime(2023, 12, 1, 12, 47, 51, 753076)), ('a65b149d-9855-40b4-afae-648c787faaf4', 10, 'Emilia-Fee und Thorin-Joris im Schwimmbad', '9-11', 'gpt-3.5-turbo-16k', datetime.datetime(2023, 12, 6, 18, 5, 38, 556)), ('242f8c8c-cb47-47cf-9c91-90b0c96a1318', 10, 'Thorin-Joris auf dem Schrotthandel', '9-11', 'gpt-3.5-turbo-16k', datetime.datetime(2023, 12, 25, 10, 42, 59, 215306)), ('355d1606-5dab-4c1f-9550-cf1bbc34b4e3', 10, 'Emilia-Fee macht eine Hubschrauber-Rundreise', '6-8', 'gpt-3.5-turbo-16k', datetime.datetime(2023, 12, 29, 14, 22, 19, 454631))]\n"
     ]
    }
   ],
   "execution_count": 3
  },
  {
   "metadata": {
    "ExecuteTime": {
     "end_time": "2024-08-12T13:43:57.682761Z",
     "start_time": "2024-08-12T13:43:57.676519Z"
    }
   },
   "cell_type": "code",
   "source": [
    "# create dataframe from table stories\n",
    "df = conn.table(\"audios\").to_df()\n",
    "df"
   ],
   "id": "14e1241f3b5f7b98",
   "outputs": [
    {
     "data": {
      "text/plain": [
       "                                 audio_id  \\\n",
       "0    0a015094-d592-407a-9080-a65f7a7cf945   \n",
       "1    b6f92637-137f-42f4-af89-f552be4b9859   \n",
       "2    21851ba1-17a0-4fa3-a942-09aa13d08705   \n",
       "3    02a6d8a0-14b3-4faf-b339-3a29b8b30413   \n",
       "4    c4e07824-874f-46ec-9fb9-53b757c264db   \n",
       "..                                    ...   \n",
       "325  9307daff-426f-4014-b4a5-95e548dc7369   \n",
       "326  4ab008d6-198b-47b7-aeb5-63034b06f13b   \n",
       "327  07d7179e-5db7-435f-a8f7-c9bb696c64ca   \n",
       "328  d8e177d3-fa7a-414d-a25d-27426d25dc46   \n",
       "329  7c6d3baf-fe95-44e6-abaf-674a4e2be459   \n",
       "\n",
       "                               segment_id  \\\n",
       "0    bcd98efc-4826-44c9-b0db-d9f64475fab8   \n",
       "1    cb44254b-0eba-4cb3-a3f5-65762de15922   \n",
       "2    f7a84f78-e36f-4941-b2e4-dd362a936f13   \n",
       "3    cd02d311-3c1b-4029-b26a-8bb3a2f28a4e   \n",
       "4    bc7cfa6b-267d-414d-88fc-d0e49f1a86d8   \n",
       "..                                    ...   \n",
       "325  55de1a25-f16e-4ef9-aef4-9635e991dded   \n",
       "326  30a7b678-ef95-4f8e-8b71-2dae218d87a0   \n",
       "327  72030076-344d-49e6-afbc-e65f05615212   \n",
       "328  11045991-67ef-4d20-a41d-7d75c8e030e5   \n",
       "329  9cbcfdfc-726b-4234-9d64-6d0d9cc92fd6   \n",
       "\n",
       "                                                   url  \\\n",
       "0    https://narraitive.s3.amazonaws.com/bb3f806a-b...   \n",
       "1    https://narraitive.s3.amazonaws.com/afee59ee-4...   \n",
       "2    https://narraitive.s3.amazonaws.com/afee59ee-4...   \n",
       "3    https://narraitive.s3.amazonaws.com/afee59ee-4...   \n",
       "4    https://narraitive.s3.amazonaws.com/afee59ee-4...   \n",
       "..                                                 ...   \n",
       "325  https://narraitive.s3.amazonaws.com/355d1606-5...   \n",
       "326  https://narraitive.s3.amazonaws.com/355d1606-5...   \n",
       "327  https://narraitive.s3.amazonaws.com/355d1606-5...   \n",
       "328  https://narraitive.s3.amazonaws.com/355d1606-5...   \n",
       "329  https://narraitive.s3.amazonaws.com/355d1606-5...   \n",
       "\n",
       "            creation_timestamp          creation_model                 voice  \\\n",
       "0   2023-11-13 13:23:03.944257                   tts-1                 alloy   \n",
       "1   2023-11-10 16:55:53.655017                   tts-1                 alloy   \n",
       "2   2023-11-10 16:55:56.818678                   tts-1                 alloy   \n",
       "3   2023-11-10 16:55:59.850299                   tts-1                 alloy   \n",
       "4   2023-11-10 16:56:03.392960                   tts-1                 alloy   \n",
       "..                         ...                     ...                   ...   \n",
       "325 2023-12-29 14:32:10.273629  eleven_multilingual_v2  JIvG1qNhaA2YR9O09IoX   \n",
       "326 2023-12-29 14:32:17.605664  eleven_multilingual_v2  JIvG1qNhaA2YR9O09IoX   \n",
       "327 2023-12-29 14:32:22.452415  eleven_multilingual_v2  JIvG1qNhaA2YR9O09IoX   \n",
       "328 2023-12-29 14:32:30.738064  eleven_multilingual_v2  JIvG1qNhaA2YR9O09IoX   \n",
       "329 2023-12-29 14:32:34.927908  eleven_multilingual_v2  JIvG1qNhaA2YR9O09IoX   \n",
       "\n",
       "     duration  \n",
       "0         NaN  \n",
       "1         NaN  \n",
       "2         NaN  \n",
       "3         NaN  \n",
       "4         NaN  \n",
       "..        ...  \n",
       "325       NaN  \n",
       "326       NaN  \n",
       "327       NaN  \n",
       "328       NaN  \n",
       "329       NaN  \n",
       "\n",
       "[330 rows x 7 columns]"
      ],
      "text/html": [
       "<div>\n",
       "<style scoped>\n",
       "    .dataframe tbody tr th:only-of-type {\n",
       "        vertical-align: middle;\n",
       "    }\n",
       "\n",
       "    .dataframe tbody tr th {\n",
       "        vertical-align: top;\n",
       "    }\n",
       "\n",
       "    .dataframe thead th {\n",
       "        text-align: right;\n",
       "    }\n",
       "</style>\n",
       "<table border=\"1\" class=\"dataframe\">\n",
       "  <thead>\n",
       "    <tr style=\"text-align: right;\">\n",
       "      <th></th>\n",
       "      <th>audio_id</th>\n",
       "      <th>segment_id</th>\n",
       "      <th>url</th>\n",
       "      <th>creation_timestamp</th>\n",
       "      <th>creation_model</th>\n",
       "      <th>voice</th>\n",
       "      <th>duration</th>\n",
       "    </tr>\n",
       "  </thead>\n",
       "  <tbody>\n",
       "    <tr>\n",
       "      <th>0</th>\n",
       "      <td>0a015094-d592-407a-9080-a65f7a7cf945</td>\n",
       "      <td>bcd98efc-4826-44c9-b0db-d9f64475fab8</td>\n",
       "      <td>https://narraitive.s3.amazonaws.com/bb3f806a-b...</td>\n",
       "      <td>2023-11-13 13:23:03.944257</td>\n",
       "      <td>tts-1</td>\n",
       "      <td>alloy</td>\n",
       "      <td>NaN</td>\n",
       "    </tr>\n",
       "    <tr>\n",
       "      <th>1</th>\n",
       "      <td>b6f92637-137f-42f4-af89-f552be4b9859</td>\n",
       "      <td>cb44254b-0eba-4cb3-a3f5-65762de15922</td>\n",
       "      <td>https://narraitive.s3.amazonaws.com/afee59ee-4...</td>\n",
       "      <td>2023-11-10 16:55:53.655017</td>\n",
       "      <td>tts-1</td>\n",
       "      <td>alloy</td>\n",
       "      <td>NaN</td>\n",
       "    </tr>\n",
       "    <tr>\n",
       "      <th>2</th>\n",
       "      <td>21851ba1-17a0-4fa3-a942-09aa13d08705</td>\n",
       "      <td>f7a84f78-e36f-4941-b2e4-dd362a936f13</td>\n",
       "      <td>https://narraitive.s3.amazonaws.com/afee59ee-4...</td>\n",
       "      <td>2023-11-10 16:55:56.818678</td>\n",
       "      <td>tts-1</td>\n",
       "      <td>alloy</td>\n",
       "      <td>NaN</td>\n",
       "    </tr>\n",
       "    <tr>\n",
       "      <th>3</th>\n",
       "      <td>02a6d8a0-14b3-4faf-b339-3a29b8b30413</td>\n",
       "      <td>cd02d311-3c1b-4029-b26a-8bb3a2f28a4e</td>\n",
       "      <td>https://narraitive.s3.amazonaws.com/afee59ee-4...</td>\n",
       "      <td>2023-11-10 16:55:59.850299</td>\n",
       "      <td>tts-1</td>\n",
       "      <td>alloy</td>\n",
       "      <td>NaN</td>\n",
       "    </tr>\n",
       "    <tr>\n",
       "      <th>4</th>\n",
       "      <td>c4e07824-874f-46ec-9fb9-53b757c264db</td>\n",
       "      <td>bc7cfa6b-267d-414d-88fc-d0e49f1a86d8</td>\n",
       "      <td>https://narraitive.s3.amazonaws.com/afee59ee-4...</td>\n",
       "      <td>2023-11-10 16:56:03.392960</td>\n",
       "      <td>tts-1</td>\n",
       "      <td>alloy</td>\n",
       "      <td>NaN</td>\n",
       "    </tr>\n",
       "    <tr>\n",
       "      <th>...</th>\n",
       "      <td>...</td>\n",
       "      <td>...</td>\n",
       "      <td>...</td>\n",
       "      <td>...</td>\n",
       "      <td>...</td>\n",
       "      <td>...</td>\n",
       "      <td>...</td>\n",
       "    </tr>\n",
       "    <tr>\n",
       "      <th>325</th>\n",
       "      <td>9307daff-426f-4014-b4a5-95e548dc7369</td>\n",
       "      <td>55de1a25-f16e-4ef9-aef4-9635e991dded</td>\n",
       "      <td>https://narraitive.s3.amazonaws.com/355d1606-5...</td>\n",
       "      <td>2023-12-29 14:32:10.273629</td>\n",
       "      <td>eleven_multilingual_v2</td>\n",
       "      <td>JIvG1qNhaA2YR9O09IoX</td>\n",
       "      <td>NaN</td>\n",
       "    </tr>\n",
       "    <tr>\n",
       "      <th>326</th>\n",
       "      <td>4ab008d6-198b-47b7-aeb5-63034b06f13b</td>\n",
       "      <td>30a7b678-ef95-4f8e-8b71-2dae218d87a0</td>\n",
       "      <td>https://narraitive.s3.amazonaws.com/355d1606-5...</td>\n",
       "      <td>2023-12-29 14:32:17.605664</td>\n",
       "      <td>eleven_multilingual_v2</td>\n",
       "      <td>JIvG1qNhaA2YR9O09IoX</td>\n",
       "      <td>NaN</td>\n",
       "    </tr>\n",
       "    <tr>\n",
       "      <th>327</th>\n",
       "      <td>07d7179e-5db7-435f-a8f7-c9bb696c64ca</td>\n",
       "      <td>72030076-344d-49e6-afbc-e65f05615212</td>\n",
       "      <td>https://narraitive.s3.amazonaws.com/355d1606-5...</td>\n",
       "      <td>2023-12-29 14:32:22.452415</td>\n",
       "      <td>eleven_multilingual_v2</td>\n",
       "      <td>JIvG1qNhaA2YR9O09IoX</td>\n",
       "      <td>NaN</td>\n",
       "    </tr>\n",
       "    <tr>\n",
       "      <th>328</th>\n",
       "      <td>d8e177d3-fa7a-414d-a25d-27426d25dc46</td>\n",
       "      <td>11045991-67ef-4d20-a41d-7d75c8e030e5</td>\n",
       "      <td>https://narraitive.s3.amazonaws.com/355d1606-5...</td>\n",
       "      <td>2023-12-29 14:32:30.738064</td>\n",
       "      <td>eleven_multilingual_v2</td>\n",
       "      <td>JIvG1qNhaA2YR9O09IoX</td>\n",
       "      <td>NaN</td>\n",
       "    </tr>\n",
       "    <tr>\n",
       "      <th>329</th>\n",
       "      <td>7c6d3baf-fe95-44e6-abaf-674a4e2be459</td>\n",
       "      <td>9cbcfdfc-726b-4234-9d64-6d0d9cc92fd6</td>\n",
       "      <td>https://narraitive.s3.amazonaws.com/355d1606-5...</td>\n",
       "      <td>2023-12-29 14:32:34.927908</td>\n",
       "      <td>eleven_multilingual_v2</td>\n",
       "      <td>JIvG1qNhaA2YR9O09IoX</td>\n",
       "      <td>NaN</td>\n",
       "    </tr>\n",
       "  </tbody>\n",
       "</table>\n",
       "<p>330 rows × 7 columns</p>\n",
       "</div>"
      ]
     },
     "execution_count": 10,
     "metadata": {},
     "output_type": "execute_result"
    }
   ],
   "execution_count": 10
  },
  {
   "metadata": {
    "ExecuteTime": {
     "end_time": "2024-08-12T13:44:45.966898Z",
     "start_time": "2024-08-12T13:44:45.965028Z"
    }
   },
   "cell_type": "code",
   "source": [
    "def connect_to_duckdb():\n",
    "    _conn = duckdb.connect('../narrAItive_duckDB.duckdb')\n",
    "    return _conn"
   ],
   "id": "cd021cf2402d7bf",
   "outputs": [],
   "execution_count": 11
  },
  {
   "metadata": {
    "ExecuteTime": {
     "end_time": "2024-08-12T13:51:23.687473Z",
     "start_time": "2024-08-12T13:51:23.679561Z"
    }
   },
   "cell_type": "code",
   "source": [
    "segment_id = \"948e3ee3-36ca-4cac-9d07-9442843db767\"\n",
    "\n",
    "with connect_to_duckdb() as conn:\n",
    "    with conn.cursor() as cursor:\n",
    "        cursor.execute(\"\"\"\n",
    "            SELECT audio_id FROM audios\n",
    "            WHERE segment_id = '948e3ee3-36ca-4cac-9d07-9442843db767'\n",
    "        \"\"\")\n",
    "        result = cursor.fetchone()[0]"
   ],
   "id": "d9797142a6386492",
   "outputs": [],
   "execution_count": 18
  },
  {
   "metadata": {
    "ExecuteTime": {
     "end_time": "2024-08-12T13:51:26.758597Z",
     "start_time": "2024-08-12T13:51:26.756626Z"
    }
   },
   "cell_type": "code",
   "source": "result",
   "id": "1264b55a6a7998a0",
   "outputs": [
    {
     "data": {
      "text/plain": [
       "'10c7cec7-b900-4220-bbdb-04e6b7e6f64a'"
      ]
     },
     "execution_count": 19,
     "metadata": {},
     "output_type": "execute_result"
    }
   ],
   "execution_count": 19
  },
  {
   "metadata": {
    "ExecuteTime": {
     "end_time": "2024-08-12T14:41:17.894474Z",
     "start_time": "2024-08-12T14:41:17.892101Z"
    }
   },
   "cell_type": "code",
   "source": [
    "def encode_image(image_path):\n",
    "    with open(image_path, \"rb\") as image_file:\n",
    "        return base64.b64encode(image_file.read()).decode('utf-8')"
   ],
   "id": "2b6d871fc09f4457",
   "outputs": [],
   "execution_count": 20
  },
  {
   "metadata": {
    "ExecuteTime": {
     "end_time": "2024-08-12T14:41:48.202703Z",
     "start_time": "2024-08-12T14:41:48.135729Z"
    }
   },
   "cell_type": "code",
   "source": [
    "import base64\n",
    "import requests\n",
    "\n",
    "def get_description_from_image(api_key,\n",
    "                               image_url,\n",
    "                               model=\"gpt-4-vision-preview\"):\n",
    "    # Path to your image\n",
    "    image_path = image_url\n",
    "\n",
    "    # Getting the base64 string\n",
    "    base64_image = encode_image(image_path)\n",
    "\n",
    "    headers = {\n",
    "        \"Content-Type\": \"application/json\",\n",
    "        \"Authorization\": f\"Bearer {api_key}\"\n",
    "    }\n",
    "    payload = {\n",
    "        \"model\": model,\n",
    "        \"messages\": [\n",
    "            {\n",
    "                \"role\": \"user\",\n",
    "                \"content\": [\n",
    "                    {\n",
    "                        \"type\": \"text\",\n",
    "                        \"text\": \"Please describe the character in this image in about 2 sentences and don't talk about\"\n",
    "                                \" the image itself. Just describe the character and start with \"\n",
    "                                \"'A toddler, A boy.. / a girl / a man...' Make sure that you describe the colour of \"\n",
    "                                \"hair and the potential age of the character.\"\n",
    "                    },\n",
    "                    {\n",
    "                        \"type\": \"image_url\",\n",
    "                        \"image_url\": {\n",
    "                            \"url\": f\"data:image/jpeg;base64,{base64_image}\"\n",
    "                        }\n",
    "                    }\n",
    "                ]\n",
    "            }\n",
    "        ],\n",
    "        \"max_tokens\": 300\n",
    "    }\n",
    "    response = None\n",
    "    for i_try in range(10):\n",
    "        response = requests.post(\"https://api.openai.com/v1/chat/completions\", headers=headers, json=payload)\n",
    "        if response.status_code == 200:\n",
    "            break\n",
    "    return response.json()[\"choices\"][0]['message']['content']"
   ],
   "id": "3372141eb610c12f",
   "outputs": [],
   "execution_count": 21
  },
  {
   "metadata": {
    "ExecuteTime": {
     "end_time": "2024-08-12T14:45:57.323074Z",
     "start_time": "2024-08-12T14:45:50.097339Z"
    }
   },
   "cell_type": "code",
   "source": [
    "load_dotenv()\n",
    "get_description_from_image(os.getenv('OPENAI_API_KEY'), \"Thorin.jpg\", model=\"gpt-4o-mini\")"
   ],
   "id": "4ae33f3a49627dd",
   "outputs": [
    {
     "data": {
      "text/plain": [
       "'A toddler, a boy with curly blond hair, appears to be around two years old. He is wearing a soft blue sweatshirt and has a thoughtful expression.'"
      ]
     },
     "execution_count": 24,
     "metadata": {},
     "output_type": "execute_result"
    }
   ],
   "execution_count": 24
  },
  {
   "metadata": {},
   "cell_type": "code",
   "outputs": [],
   "execution_count": null,
   "source": "",
   "id": "f995f3cfb7644d32"
  }
 ],
 "metadata": {
  "kernelspec": {
   "display_name": "Python 3",
   "language": "python",
   "name": "python3"
  },
  "language_info": {
   "codemirror_mode": {
    "name": "ipython",
    "version": 2
   },
   "file_extension": ".py",
   "mimetype": "text/x-python",
   "name": "python",
   "nbconvert_exporter": "python",
   "pygments_lexer": "ipython2",
   "version": "2.7.6"
  }
 },
 "nbformat": 4,
 "nbformat_minor": 5
}
